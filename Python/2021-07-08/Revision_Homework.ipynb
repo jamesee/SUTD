{
 "cells": [
  {
   "cell_type": "markdown",
   "metadata": {
    "colab_type": "text",
    "deletable": false,
    "editable": false,
    "id": "AtcipLV1Htom",
    "nbgrader": {
     "grade": false,
     "locked": true,
     "solution": false
    }
   },
   "source": [
    "# Revision Problem Set\n",
    "## Homework\n",
    "\n",
    "**HW0.** Write a function `palindrome(s)`to check if the string `s` is a [Palindrome](https://en.wikipedia.org/wiki/Palindrome). Use iteration for this solution.\n"
   ]
  },
  {
   "cell_type": "code",
   "execution_count": 61,
   "metadata": {
    "collapsed": true
   },
   "outputs": [],
   "source": [
    "def palindrome(s):\n",
    "    flag = False\n",
    "    s.replace(\" \", \"\")\n",
    "    for idx in range(int(len(s)/2)):\n",
    "        if s[idx] != s[-(idx+1)]:\n",
    "            return False\n",
    "    return True"
   ]
  },
  {
   "cell_type": "code",
   "execution_count": 62,
   "metadata": {
    "collapsed": true,
    "deletable": false,
    "editable": false,
    "nbgrader": {
     "grade": true,
     "grade_id": "hw0",
     "locked": true,
     "points": "1",
     "solution": false
    }
   },
   "outputs": [],
   "source": [
    "assert not palindrome(\"moon\") \n",
    "assert palindrome(\"noon\") \n",
    "assert palindrome(\"a a\") \n",
    "assert palindrome(\"ada\") \n",
    "assert not palindrome(\"ad a\") "
   ]
  },
  {
   "cell_type": "markdown",
   "metadata": {
    "deletable": false,
    "editable": false,
    "nbgrader": {
     "grade": false,
     "locked": true,
     "solution": false
    }
   },
   "source": [
    "**HW1.** Create a function to implement **Bubble Sort Algorithm version 2**. You can check the pseudocode in [Bubble Sort and Insertion Sort](https://colab.research.google.com/drive/1vV2lkHiLcX-bQ6OFvciBQ_o1_hz2p4Yw). \n",
    "\n",
    "The function should ...\n",
    "\n",
    "- **modify/mutate** an existing array into a sorted one\n",
    "- **return** the number of comparisons made\n",
    "\n",
    "Hint: To count the number of comparisons made you can simply increment an integer variable (counter) right before the `if` statement."
   ]
  },
  {
   "cell_type": "code",
   "execution_count": null,
   "metadata": {
    "collapsed": true
   },
   "outputs": [],
   "source": [
    "#  pseudocode\n",
    "#   1. n = length of array\n",
    "#   2. swapped = False\n",
    "#   3. As long as swapped is True, do:\n",
    "#       3.1 swapped = False\n",
    "#       3.2 For inner_index from 1 to n-1, do:\n",
    "#           3.2.1 first_number = array[inner_index - 1]\n",
    "#           3.2.2 second_number = array[inner_index]\n",
    "#           3.2.3 if first_number > second_number, do:\n",
    "#               3.2.3.1 swap(first_number, second_number)\n",
    "#               3.2.3.2 swapped = True"
   ]
  },
  {
   "cell_type": "code",
   "execution_count": 54,
   "metadata": {
    "collapsed": true
   },
   "outputs": [],
   "source": [
    "# Bubble Sort version 2\n",
    "\n",
    "def bubble_sort(array):\n",
    "    count = 0\n",
    "    n = len(array)\n",
    "    swapped = True\n",
    "    while swapped:\n",
    "        swapped = False\n",
    "        for inner_idx in range(1, n):\n",
    "#             print(array)\n",
    "            if array[inner_idx - 1] > array[inner_idx]:\n",
    "                array[inner_idx - 1], array[inner_idx] = array[inner_idx], array[inner_idx - 1]\n",
    "                swapped = True\n",
    "            count += 1   \n",
    "    return count"
   ]
  },
  {
   "cell_type": "code",
   "execution_count": null,
   "metadata": {
    "collapsed": true
   },
   "outputs": [],
   "source": []
  },
  {
   "cell_type": "code",
   "execution_count": 55,
   "metadata": {
    "deletable": false,
    "editable": false,
    "nbgrader": {
     "grade": true,
     "grade_id": "hw11",
     "locked": true,
     "points": "1",
     "solution": false
    }
   },
   "outputs": [
    {
     "name": "stdout",
     "output_type": "stream",
     "text": [
      "[-39, -5, 0, 1, 3, 4, 6, 7, 8, 8, 10, 47] 121\n"
     ]
    }
   ],
   "source": [
    "array = [10,3,8,47,1,0,-39,8,4,7,6,-5]\n",
    "count = bubble_sort(array)\n",
    "print(array, count)\n",
    "assert array == [-39, -5, 0, 1, 3, 4, 6, 7, 8, 8, 10, 47]\n",
    "assert count == 121"
   ]
  },
  {
   "cell_type": "code",
   "execution_count": 3,
   "metadata": {
    "collapsed": true,
    "deletable": false,
    "editable": false,
    "nbgrader": {
     "grade": true,
     "grade_id": "hw12",
     "locked": true,
     "points": "1",
     "solution": false
    }
   },
   "outputs": [],
   "source": [
    "###\n",
    "### AUTOGRADER TEST - DO NOT REMOVE\n",
    "###\n"
   ]
  },
  {
   "cell_type": "markdown",
   "metadata": {
    "colab_type": "text",
    "deletable": false,
    "editable": false,
    "id": "2ApF7Ot0JXS4",
    "nbgrader": {
     "grade": false,
     "locked": true,
     "solution": false
    }
   },
   "source": [
    "**HW2.** The solution in HW1 can be improved!\n",
    "\n",
    "The n-th pass places the n-th largest element into its final place (i.e. after 1 cycle, the (1st) largest element will be in its correct position).\n",
    "\n",
    "Hence, we can reduce subsequent iterations by only considering the other (unsorted) `n-1` elements in the array. \n",
    "\n",
    "Implement the algorithm of **Bubble Sort version 4** under [Bubble Sort and Insertion Sort](https://colab.research.google.com/drive/1vV2lkHiLcX-bQ6OFvciBQ_o1_hz2p4Yw). \n"
   ]
  },
  {
   "cell_type": "code",
   "execution_count": null,
   "metadata": {
    "collapsed": true
   },
   "outputs": [],
   "source": []
  },
  {
   "cell_type": "code",
   "execution_count": 19,
   "metadata": {
    "colab": {
     "base_uri": "https://localhost:8080/",
     "height": 34
    },
    "colab_type": "code",
    "collapsed": true,
    "executionInfo": {
     "elapsed": 896,
     "status": "ok",
     "timestamp": 1572598114180,
     "user": {
      "displayName": "Oka Kurniawan",
      "photoUrl": "https://lh3.googleusercontent.com/a-/AAuE7mAnRP7A15yGfrraUO-0BiNVbNmYjI2f9jaZikjr=s64",
      "userId": "05233922875329103764"
     },
     "user_tz": -480
    },
    "id": "Cxkbiq9AJbjS",
    "outputId": "b182fd43-ca89-4ee0-c0ae-515d3bd32b62"
   },
   "outputs": [],
   "source": [
    "def bubble_sort(array):\n",
    "    count = 0\n",
    "    n = len(array)\n",
    "    swapped = True\n",
    "    while swapped:\n",
    "        swapped = False\n",
    "        new_n = 0\n",
    "#         print('---')\n",
    "        for inner_idx in range(1, n):\n",
    "#             print(array)\n",
    "            if array[inner_idx - 1] > array[inner_idx]:\n",
    "                array[inner_idx - 1], array[inner_idx] = array[inner_idx], array[inner_idx - 1]\n",
    "                swapped = True\n",
    "                new_n = inner_idx\n",
    "            count += 1\n",
    "        n = new_n\n",
    "    return count"
   ]
  },
  {
   "cell_type": "code",
   "execution_count": null,
   "metadata": {
    "collapsed": true
   },
   "outputs": [],
   "source": []
  },
  {
   "cell_type": "code",
   "execution_count": null,
   "metadata": {},
   "outputs": [],
   "source": []
  },
  {
   "cell_type": "code",
   "execution_count": 21,
   "metadata": {
    "deletable": false,
    "editable": false,
    "nbgrader": {
     "grade": true,
     "grade_id": "hw21",
     "locked": true,
     "points": "1",
     "solution": false
    }
   },
   "outputs": [
    {
     "name": "stdout",
     "output_type": "stream",
     "text": [
      "[-39, -5, 0, 1, 3, 4, 6, 7, 8, 8, 10, 47] 66\n"
     ]
    }
   ],
   "source": [
    "array = [10,3,8,47,1,0,-39,8,4,7,6,-5]\n",
    "count = bubble_sort(array)\n",
    "print(array, count)\n",
    "assert array == [-39, -5, 0, 1, 3, 4, 6, 7, 8, 8, 10, 47]\n",
    "assert count == 66"
   ]
  },
  {
   "cell_type": "code",
   "execution_count": 6,
   "metadata": {
    "collapsed": true,
    "deletable": false,
    "editable": false,
    "nbgrader": {
     "grade": true,
     "grade_id": "hw22",
     "locked": true,
     "points": "1",
     "solution": false
    }
   },
   "outputs": [],
   "source": [
    "###\n",
    "### AUTOGRADER TEST - DO NOT REMOVE\n",
    "###\n"
   ]
  }
 ],
 "metadata": {
  "kernelspec": {
   "display_name": "Python 3 [3.7]",
   "language": "python",
   "name": "python3"
  },
  "language_info": {
   "codemirror_mode": {
    "name": "ipython",
    "version": 3
   },
   "file_extension": ".py",
   "mimetype": "text/x-python",
   "name": "python",
   "nbconvert_exporter": "python",
   "pygments_lexer": "ipython3",
   "version": "3.7.5"
  }
 },
 "nbformat": 4,
 "nbformat_minor": 4
}
