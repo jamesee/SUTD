{
  "nbformat": 4,
  "nbformat_minor": 0,
  "metadata": {
    "colab": {
      "name": "mergesort solution.ipynb",
      "provenance": []
    },
    "kernelspec": {
      "name": "python3",
      "display_name": "Python 3"
    },
    "language_info": {
      "name": "python"
    }
  },
  "cells": [
    {
      "cell_type": "code",
      "metadata": {
        "colab": {
          "base_uri": "https://localhost:8080/"
        },
        "id": "xJISRbWhUojT",
        "outputId": "f6101540-4264-4d31-d044-130e14298337"
      },
      "source": [
        "a = [12, 11, 13, 5, 6, 7]\n",
        "\n",
        "mergesort(a)\n",
        "print(a)\n",
        "assert a == [5, 6, 7, 11, 12, 13]"
      ],
      "execution_count": null,
      "outputs": [
        {
          "output_type": "stream",
          "text": [
            "[5, 6, 7, 11, 12, 13]\n"
          ],
          "name": "stdout"
        }
      ]
    },
    {
      "cell_type": "code",
      "metadata": {
        "id": "pdjgT-W1cEr6"
      },
      "source": [
        "def mergesort(a):\n",
        "  length = len(a)\n",
        "  # print(a)\n",
        "\n",
        "  if length > 1:\n",
        "  \n",
        "    # find middle point to divide array\n",
        "    mid = len(a) // 2\n",
        "\n",
        "    # partition array into left and right\n",
        "    left = a[:mid]\n",
        "    right = a[mid:]\n",
        "\n",
        "    # call mergesort for first half\n",
        "    mergesort(left)\n",
        "\n",
        "    # call mergesort for second half\n",
        "    mergesort(right)\n",
        "\n",
        "    # initialise\n",
        "    i = j = k = 0\n",
        "    left_length = len(left)\n",
        "    right_length = len(right)\n",
        "\n",
        "    # merge the two halves\n",
        "    while i < left_length and j < right_length:\n",
        "      if left[i] < right[j]:\n",
        "        a[k] = left[i]\n",
        "        i += 1\n",
        "      else:\n",
        "        a[k] = right[j]\n",
        "        j += 1\n",
        "      k += 1  # advance index for main array\n",
        "    \n",
        "    # Check if there are any elements left\n",
        "    while i < left_length:\n",
        "      a[k] = left[i]\n",
        "      i += 1\n",
        "      k += 1\n",
        "\n",
        "    while j < right_length:\n",
        "      a[k] = right[j]\n",
        "      j += 1\n",
        "      k += 1"
      ],
      "execution_count": null,
      "outputs": []
    }
  ]
}